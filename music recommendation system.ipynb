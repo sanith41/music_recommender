{
 "cells": [
  {
   "cell_type": "code",
   "execution_count": 2,
   "id": "a79292d0",
   "metadata": {},
   "outputs": [
    {
     "name": "stderr",
     "output_type": "stream",
     "text": [
      "C:\\Users\\SANITH 41\\AppData\\Local\\Temp\\ipykernel_22364\\3407066970.py:11: FutureWarning: The default value of regex will change from True to False in a future version.\n",
      "  songs['text'] = songs['text'].str.replace(r'\\n', '')\n"
     ]
    },
    {
     "name": "stdout",
     "output_type": "stream",
     "text": [
      "The 4 recommended songs for Holy Spirit Rain Down are:\n",
      "Number 1:\n",
      "Melodies From Heaven by Kirk Franklin with 0.48 similarity score\n",
      "--------------------\n",
      "Number 2:\n",
      "Come Holy Spirit by Israel with 0.397 similarity score\n",
      "--------------------\n",
      "Number 3:\n",
      "Jtr by Dave Matthews Band with 0.383 similarity score\n",
      "--------------------\n",
      "Number 4:\n",
      "Crush by Omd with 0.382 similarity score\n",
      "--------------------\n",
      "The 4 recommended songs for Crazy Out Of My Mind are:\n",
      "Number 1:\n",
      "Crazy by Bon Jovi with 0.371 similarity score\n",
      "--------------------\n",
      "Number 2:\n",
      "Let's Get Crazy by Quiet Riot with 0.332 similarity score\n",
      "--------------------\n",
      "Number 3:\n",
      "We Got Each Other by Chaka Khan with 0.326 similarity score\n",
      "--------------------\n",
      "Number 4:\n",
      "Call Me Crazy by Bryan White with 0.325 similarity score\n",
      "--------------------\n"
     ]
    }
   ],
   "source": [
    "import numpy as np\n",
    "import pandas as pd\n",
    "from typing import List, Dict\n",
    "from sklearn.feature_extraction.text import TfidfVectorizer\n",
    "from sklearn.metrics.pairwise import cosine_similarity\n",
    "\n",
    "songs = pd.read_csv(\"C:\\\\Users\\\\SANITH 41\\\\Downloads\\\\songdata.csv\")\n",
    "songs.head()\n",
    "\n",
    "songs = songs.sample(n=5000).drop('link', axis=1).reset_index(drop=True)\n",
    "songs['text'] = songs['text'].str.replace(r'\\n', '')\n",
    "tfidf = TfidfVectorizer(analyzer='word', stop_words='english')\n",
    "lyrics_matrix = tfidf.fit_transform(songs['text'])\n",
    "\n",
    "cosine_similarities = cosine_similarity(lyrics_matrix) \n",
    "similarities = {}\n",
    "\n",
    "for i in range(len(cosine_similarities)):\n",
    "    # Now we'll sort each element in cosine_similarities and get the indexes of the songs. \n",
    "    similar_indices = cosine_similarities[i].argsort()[:-50:-1] \n",
    "    # After that, we'll store in similarities each name of the 50 most similar songs.\n",
    "    # Except the first one that is the same song.\n",
    "    similarities[songs['song'].iloc[i]] = [(cosine_similarities[i][x], songs['song'][x], songs['artist'][x]) for x in similar_indices][1:]\n",
    "\n",
    "class ContentBasedRecommender:\n",
    "    def __init__(self, matrix):\n",
    "        self.matrix_similar = matrix\n",
    "\n",
    "    def _print_message(self, song, recom_song):\n",
    "        rec_items = len(recom_song)\n",
    "        \n",
    "        print(f'The {rec_items} recommended songs for {song} are:')\n",
    "        for i in range(rec_items):\n",
    "            print(f\"Number {i+1}:\")\n",
    "            print(f\"{recom_song[i][1]} by {recom_song[i][2]} with {round(recom_song[i][0], 3)} similarity score\") \n",
    "            print(\"--------------------\")\n",
    "        \n",
    "    def recommend(self, recommendation):\n",
    "        # Get song to find recommendations for\n",
    "        song = recommendation['song']\n",
    "        # Get number of songs to recommend\n",
    "        number_songs = recommendation['number_songs']\n",
    "        # Get the number of songs most similars from matrix similarities\n",
    "        recom_song = self.matrix_similar[song][:number_songs]\n",
    "        # print each item\n",
    "        self._print_message(song=song, recom_song=recom_song)   \n",
    "\n",
    "recommedations = ContentBasedRecommender(similarities)\n",
    "recommendation = {\n",
    "    \"song\": songs['song'].iloc[10],\n",
    "    \"number_songs\": 4 \n",
    "}\n",
    "\n",
    "recommedations.recommend(recommendation)\n",
    "\n",
    "\n",
    "recommendation2 = {\n",
    "    \"song\": songs['song'].iloc[120],\n",
    "    \"number_songs\": 4 \n",
    "}\n",
    "\n",
    "recommedations.recommend(recommendation2)"
   ]
  },
  {
   "cell_type": "code",
   "execution_count": 4,
   "id": "9515fd4f",
   "metadata": {},
   "outputs": [
    {
     "name": "stdout",
     "output_type": "stream",
     "text": [
      "The 4 recommended songs for Holy Spirit Rain Down are:\n",
      "Number 1:\n",
      "Melodies From Heaven by Kirk Franklin with 0.48 similarity score\n",
      "--------------------\n",
      "Number 2:\n",
      "Come Holy Spirit by Israel with 0.397 similarity score\n",
      "--------------------\n",
      "Number 3:\n",
      "Jtr by Dave Matthews Band with 0.383 similarity score\n",
      "--------------------\n",
      "Number 4:\n",
      "Crush by Omd with 0.382 similarity score\n",
      "--------------------\n"
     ]
    }
   ],
   "source": [
    "recommedations = ContentBasedRecommender(similarities)\n",
    "recommendation = {\n",
    "    \"song\": songs['song'].iloc[10],\n",
    "    \"number_songs\": 4 \n",
    "}\n",
    "recommedations.recommend(recommendation)\n"
   ]
  },
  {
   "cell_type": "code",
   "execution_count": null,
   "id": "50d200e6",
   "metadata": {},
   "outputs": [],
   "source": []
  }
 ],
 "metadata": {
  "kernelspec": {
   "display_name": "Python 3 (ipykernel)",
   "language": "python",
   "name": "python3"
  },
  "language_info": {
   "codemirror_mode": {
    "name": "ipython",
    "version": 3
   },
   "file_extension": ".py",
   "mimetype": "text/x-python",
   "name": "python",
   "nbconvert_exporter": "python",
   "pygments_lexer": "ipython3",
   "version": "3.9.12"
  }
 },
 "nbformat": 4,
 "nbformat_minor": 5
}
